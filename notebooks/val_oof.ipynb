{
 "cells": [
  {
   "cell_type": "code",
   "execution_count": 25,
   "metadata": {},
   "outputs": [],
   "source": [
    "import os\n",
    "import pandas as pd\n",
    "import sys\n",
    "import torch\n",
    "\n",
    "sys.path.append(\"../\")\n",
    "# sys.path.append(\"../hms_pipeline\")\n",
    "\n",
    "from hms_pipeline.spec_dataset import SpecDataset, infer_spec_dataset\n",
    "from hms_pipeline.eeg_model import SpecModel, SpecVitModel\n",
    "from hms_pipeline.kaggle_kl_div import eval_subm, eval_subm_g10\n",
    "\n",
    "from hms_pipeline.eeg_model import EegInferModule\n"
   ]
  },
  {
   "cell_type": "code",
   "execution_count": 26,
   "metadata": {},
   "outputs": [],
   "source": [
    "torch.set_float32_matmul_precision(\"medium\")"
   ]
  },
  {
   "cell_type": "code",
   "execution_count": 27,
   "metadata": {},
   "outputs": [
    {
     "name": "stdout",
     "output_type": "stream",
     "text": [
      "output_csv_path: /home/maxc/workspace/kaggle-hms/oof_results/hmsv6-maxvitt-w025-4imgs-kl1-bandclip-lrf16-12s.csv\n",
      "output_logit_csv_path: /home/maxc/workspace/kaggle-hms/oof_results/hmsv6-maxvitt-w025-4imgs-kl1-bandclip-lrf16-12s_logit.csv\n"
     ]
    }
   ],
   "source": [
    "\n",
    "model_dir = \"/home/maxc/workspace/kaggle-hms/models-hmsv6-1/hmsv6-maxvits-4imgs-w025-kl1-512\"\n",
    "model_dir = \"/home/maxc/workspace/kaggle-hms/models-hmsv6-1/hmsv6-convnexts-4imgs-w025-kl0-512\"\n",
    "model_dir = \"/home/maxc/workspace/kaggle-hms/models-hmsv6-1/hmsv6-maxvitt-4imgs-w025-kl1-avgmax\"\n",
    "model_dir = \"/home/maxc/workspace/kaggle-hms/models-hmsv6-1/hmsv6-convnexts-w025-3imgs-kl1-bandclip-20s\"\n",
    "model_dir = \"/home/maxc/workspace/kaggle-hms/models-hmsv6/hmsv6-maxvitt-w025-3imgs-kl1-bandclip-avgmax\"\n",
    "model_dir =  \"/home/maxc/workspace/kaggle-hms/models-hmsv6/hmsv6-maxvits-w025-3imgs-kl1-bandclip\"\n",
    "\n",
    "model_dir = \"/home/maxc/workspace/kaggle-hms/models-hmsv6-1/hmsv6-convnexts-w025-4imgs-kl1-bandclip-12s-large\"\n",
    "\n",
    "model_dir = \"/home/maxc/workspace/kaggle-hms/models-hmsv6-1/hmsv6-maxvitt-w025-4imgs-kl1-bandclip-lrf16-12s\"\n",
    "output_dir = \"/home/maxc/workspace/kaggle-hms/oof_results\"\n",
    "\n",
    "\n",
    "\n",
    "lr_flip = False\n",
    "\n",
    "# output csv_name \n",
    "\n",
    "if lr_flip:\n",
    "    csv_name = \"lrflip_\" + model_dir.split(\"/\")[-1] + \".csv\"\n",
    "    output_csv_path = os.path.join(output_dir, csv_name)\n",
    "    output_logit_csv_name = \"lrflip_\" + model_dir.split(\"/\")[-1] + \"_logit.csv\"\n",
    "    output_logit_csv_path = os.path.join(output_dir, output_logit_csv_name)\n",
    "else:\n",
    "    csv_name = model_dir.split(\"/\")[-1] + \".csv\"\n",
    "    output_csv_path = os.path.join(output_dir, csv_name)\n",
    "    output_logit_csv_name = model_dir.split(\"/\")[-1] + \"_logit.csv\"\n",
    "    output_logit_csv_path = os.path.join(output_dir, output_logit_csv_name)\n",
    "print(f\"output_csv_path: {output_csv_path}\")\n",
    "print(f\"output_logit_csv_path: {output_logit_csv_path}\")\n",
    "\n",
    "infer_dataset_group = \"unique_id\"\n",
    "# infer_dataset_group = \"eeg_id\""
   ]
  },
  {
   "cell_type": "code",
   "execution_count": 28,
   "metadata": {},
   "outputs": [],
   "source": [
    "def get_config_path(model_dir):\n",
    "    # get the file starting with hms-config\n",
    "    configs = os.listdir(model_dir)\n",
    "    config_path = [config for config in configs if config.startswith(\"hms-config\")][0]\n",
    "    return os.path.join(model_dir, config_path)\n",
    "\n",
    "def get_best_ckpts(model_dir):\n",
    "    ckpts = os.listdir(model_dir)\n",
    "    ckpts = [ckpt for ckpt in ckpts if ckpt.endswith(\".ckpt\")]\n",
    "    #sort ckpts by fold\n",
    "    ckpts = sorted(ckpts)\n",
    "    # all the check points startes with model-f{fold}-val_g10_score={g10_score}-val_score={val_score}.ckpt\n",
    "    # we want to keep only the best ckpt with min g10_score for each fold\n",
    "    best_ckpts = {}\n",
    "    for ckpt in ckpts:\n",
    "        fold = ckpt.split(\"-\")[1]\n",
    "        fold_num = int(fold.split(\"f\")[1])\n",
    "        g10_score_str = ckpt.split(\"-\")[2]\n",
    "        # print(g10_score_str)\n",
    "        g10_score = float(g10_score_str.split(\"=\")[1])\n",
    "        \n",
    "        if fold_num not in best_ckpts:\n",
    "            best_ckpts[fold_num] = ckpt\n",
    "        else:\n",
    "            if g10_score < float(best_ckpts[fold_num].split(\"-\")[2].split(\"=\")[1]):\n",
    "                best_ckpts[fold_num] = ckpt\n",
    "\n",
    "    return best_ckpts"
   ]
  },
  {
   "cell_type": "code",
   "execution_count": 29,
   "metadata": {},
   "outputs": [
    {
     "name": "stdout",
     "output_type": "stream",
     "text": [
      "{0: 'model-f0-val_g10_score=0.3130-val_score=0.5258.ckpt', 1: 'model-f1-val_g10_score=0.2940-val_score=0.4809.ckpt', 2: 'model-f2-val_g10_score=0.3218-val_score=0.5256.ckpt', 3: 'model-f3-val_g10_score=0.2954-val_score=0.5110.ckpt', 4: 'model-f4-val_g10_score=0.2876-val_score=0.4826.ckpt'}\n",
      "/home/maxc/workspace/kaggle-hms/models-hmsv6-1/hmsv6-maxvitt-w025-4imgs-kl1-bandclip-lrf16-12s/hms-configs.yaml\n"
     ]
    }
   ],
   "source": [
    "best_ckpts = get_best_ckpts(model_dir)\n",
    "print(best_ckpts)\n",
    "config_path = get_config_path(model_dir)\n",
    "print(config_path)"
   ]
  },
  {
   "cell_type": "code",
   "execution_count": 30,
   "metadata": {},
   "outputs": [
    {
     "name": "stdout",
     "output_type": "stream",
     "text": [
      "{'trainer': {'max_epochs': 10, 'min_epochs': 5, 'enable_progress_bar': True, 'devices': 1, 'deterministic': False, 'precision': '16'}, 'patience': 3, 'train_bs': 14, 'valid_bs': 14, 'workers': 8, 'wandb_project': 'hms_v6', 'output_dir': '../models-hmsv6-1/hmsv6-maxvitt-w025-4imgs-kl1-bandclip-lrf16-12s', 'train_folds': [0, 1, 2, 3, 4], 'train_dataset_group': 'unique_label', 'val_dataset_group': 'eeg_id', 'raw_eeg_dir': '/home/maxc/workspace/kaggle-hms/data/v6/raw_eegs_sosbandclip_2500', 'eeg_spec_dir': '/home/maxc/workspace/kaggle-hms/data/v6/eeg_specs_h100w250gf5fft1024wl200lc05_norm_const', 'long_spec_dir': '/home/maxc/workspace/kaggle-hms/data/v6/long_specs', 'l7_weight': 0.25, 'inverse_kl_weight': True, 'inverse_kl_mean': [0.16666666666666666, 0.16666666666666666, 0.16666666666666666, 0.16666666666666666, 0.16666666666666666, 0.16666666666666666], 'kl_multiplier': 1.0, 'vote_weight': False, 'img_types': ['long_spec', 'eeg_spec', 'full_raw_eeg', 'raw_eeg'], 'signals': ['LL', 'RL', 'LP', 'RP'], 'lrflip_signals': ['RL', 'LL', 'RP', 'LP'], 'img_size': [512, 512], 'long_spec_ratio': 1.0, 'raw_full_gap': 16, 'center_timespan': 12, 'sub_img_size': {'eeg_spec': [288, 200], 'long_spec': [288, 300], 'raw_eeg': [128, 500], 'full_raw_eeg': [64, 500]}, 'sub_img_vflips': {'eeg_spec': [False, False, False, False], 'long_spec': [False, False, False, False], 'raw_eeg': [False, False, True, True]}, 'train_aug_probs': {'lrflip_prob': 0.5, 'fbflip_prob': 0.5, 'mask_prob': 0.5, 'keep_center_ratio': 0.2, 'hflip_prob': 0.5, 'blur_prob': 0.0, 'roll_prob': 0.0, 'neg_eeg_prob': 0.5, 'contrast_prob': 0.5, 'fuse_prob': 0.0, 'block_prob': 0.5, 'noise_prob': 0.0, 'mask_iter': 3, 'mask_size_ratio': 0.2, 'num_block_ch': 4, 'dummy_votes_prob': 0.0, 'num_dummy_votes': 1}, 'val_aug_probs': {'lrflip_prob': 0.0, 'fbflip_prob': 0.0, 'mask_prob': 0.0, 'keep_center_ratio': 0.0, 'hflip_prob': 0.0, 'blur_prob': 0.0, 'roll_prob': 0.0, 'neg_eeg_prob': 0.0, 'contrast_prob': 0.0, 'fuse_prob': 0.0, 'block_prob': 0.0, 'noise_prob': 0.0, 'mask_iter': 5, 'mask_size_ratio': 0.1, 'num_block_ch': 4, 'dummy_votes_prob': 0.0, 'num_dummy_votes': 1}, 'model_type': 'SpecModel', 'dropout': 0.5, 'global_pool': ['avg'], 'hidden_size': 8, 'spec_backbone': 'maxvit_tiny_tf_512', 'feature_layer': [-1], 'optimizer_params': {'lr': 0.0001}, 'use_ema': True, 'ema_decay': 0.999, 'scheduler': {'name': 'CosineAnnealingLR', 'params': {'CosineAnnealingLR': {'T_max': 10, 'eta_min': 1e-06}}}}\n",
      "{'lrflip_prob': 0.0, 'fbflip_prob': 0.0, 'mask_prob': 0.0, 'keep_center_ratio': 0.0, 'hflip_prob': 0.0, 'blur_prob': 0.0, 'roll_prob': 0.0, 'neg_eeg_prob': 0.0, 'contrast_prob': 0.0, 'fuse_prob': 0.0, 'block_prob': 0.0, 'noise_prob': 0.0, 'mask_iter': 5, 'mask_size_ratio': 0.1, 'num_block_ch': 4, 'dummy_votes_prob': 0.0, 'num_dummy_votes': 1}\n"
     ]
    }
   ],
   "source": [
    "folds_dir = \"/home/maxc/workspace/kaggle-hms/folds\"\n",
    "\n",
    "import yaml\n",
    "import matplotlib.pyplot as plt\n",
    "\n",
    "with open(config_path, \"r\") as f:\n",
    "        model_config = yaml.load(f, Loader=yaml.FullLoader)\n",
    "print(model_config)\n",
    "\n",
    "model_config[\"val_dataset_group\"] = infer_dataset_group\n",
    "\n",
    "if lr_flip:\n",
    "    model_config[\"val_aug_probs\"][\"lrflip_prob\"] = 1.0\n",
    "\n",
    "all_result_dfs = []\n",
    "all_result_logits_dfs = []\n",
    "for fold, ckpt in best_ckpts.items():\n",
    "    val_df_path = os.path.join(folds_dir, f\"val_fold_{fold}.csv\")\n",
    "    val_df = pd.read_csv(val_df_path)\n",
    "    \n",
    "        \n",
    "    infer_ds = SpecDataset(val_df,\n",
    "                    model_config,\n",
    "                    train = False,\n",
    "                )\n",
    "    print(len(infer_ds))\n",
    "\n",
    "    ckpt_path = os.path.join(model_dir, ckpt)\n",
    "\n",
    "    if model_config[\"model_type\"] == \"SpecVitModel\":\n",
    "        print(\"Using SpecVitModel\")\n",
    "        model = SpecVitModel(model_config[\"spec_backbone\"], vit_model = model_config[\"vit_model\"], img_size = model_config[\"img_size\"], pretrained=False, dropout=model_config[\"dropout\"])\n",
    "    else:\n",
    "        print(\"Using SpecModel\")\n",
    "        model = SpecModel(model_config[\"spec_backbone\"], global_pool = model_config[\"global_pool\"],  pretrained = False, img_size = model_config[\"img_size\"])\n",
    "\n",
    "    # model_config[\"use_ema\"] = False\n",
    "    module = EegInferModule(model, model_config)\n",
    "    ckpt = torch.load(ckpt_path)\n",
    "    module.load_state_dict(ckpt['state_dict'], strict=False)\n",
    "    result_df, result_logits_df = infer_spec_dataset(eeg_dataset=infer_ds, model = module, batch_size=32)\n",
    "    all_result_dfs.append(result_df)\n",
    "    all_result_logits_dfs.append(result_logits_df)"
   ]
  },
  {
   "cell_type": "code",
   "execution_count": null,
   "metadata": {},
   "outputs": [
    {
     "data": {
      "text/html": [
       "<div>\n",
       "<style scoped>\n",
       "    .dataframe tbody tr th:only-of-type {\n",
       "        vertical-align: middle;\n",
       "    }\n",
       "\n",
       "    .dataframe tbody tr th {\n",
       "        vertical-align: top;\n",
       "    }\n",
       "\n",
       "    .dataframe thead th {\n",
       "        text-align: right;\n",
       "    }\n",
       "</style>\n",
       "<table border=\"1\" class=\"dataframe\">\n",
       "  <thead>\n",
       "    <tr style=\"text-align: right;\">\n",
       "      <th></th>\n",
       "      <th>eeg_id</th>\n",
       "      <th>eeg_sub_id</th>\n",
       "      <th>seizure_vote</th>\n",
       "      <th>lpd_vote</th>\n",
       "      <th>gpd_vote</th>\n",
       "      <th>lrda_vote</th>\n",
       "      <th>grda_vote</th>\n",
       "      <th>other_vote</th>\n",
       "    </tr>\n",
       "  </thead>\n",
       "  <tbody>\n",
       "    <tr>\n",
       "      <th>0</th>\n",
       "      <td>1001487592</td>\n",
       "      <td>0</td>\n",
       "      <td>0.009771</td>\n",
       "      <td>0.184658</td>\n",
       "      <td>0.772392</td>\n",
       "      <td>0.001854</td>\n",
       "      <td>0.006188</td>\n",
       "      <td>0.025136</td>\n",
       "    </tr>\n",
       "    <tr>\n",
       "      <th>1</th>\n",
       "      <td>1001487592</td>\n",
       "      <td>1</td>\n",
       "      <td>0.012339</td>\n",
       "      <td>0.148768</td>\n",
       "      <td>0.813579</td>\n",
       "      <td>0.001241</td>\n",
       "      <td>0.004129</td>\n",
       "      <td>0.019944</td>\n",
       "    </tr>\n",
       "    <tr>\n",
       "      <th>2</th>\n",
       "      <td>1001487592</td>\n",
       "      <td>2</td>\n",
       "      <td>0.011068</td>\n",
       "      <td>0.197854</td>\n",
       "      <td>0.766643</td>\n",
       "      <td>0.001297</td>\n",
       "      <td>0.003965</td>\n",
       "      <td>0.019173</td>\n",
       "    </tr>\n",
       "    <tr>\n",
       "      <th>3</th>\n",
       "      <td>1001487592</td>\n",
       "      <td>3</td>\n",
       "      <td>0.010702</td>\n",
       "      <td>0.279821</td>\n",
       "      <td>0.661342</td>\n",
       "      <td>0.002435</td>\n",
       "      <td>0.008383</td>\n",
       "      <td>0.037316</td>\n",
       "    </tr>\n",
       "    <tr>\n",
       "      <th>4</th>\n",
       "      <td>1003458521</td>\n",
       "      <td>0</td>\n",
       "      <td>0.614065</td>\n",
       "      <td>0.125151</td>\n",
       "      <td>0.001935</td>\n",
       "      <td>0.092849</td>\n",
       "      <td>0.005244</td>\n",
       "      <td>0.160755</td>\n",
       "    </tr>\n",
       "  </tbody>\n",
       "</table>\n",
       "</div>"
      ],
      "text/plain": [
       "       eeg_id  eeg_sub_id  seizure_vote  lpd_vote  gpd_vote  lrda_vote  \\\n",
       "0  1001487592           0      0.009771  0.184658  0.772392   0.001854   \n",
       "1  1001487592           1      0.012339  0.148768  0.813579   0.001241   \n",
       "2  1001487592           2      0.011068  0.197854  0.766643   0.001297   \n",
       "3  1001487592           3      0.010702  0.279821  0.661342   0.002435   \n",
       "4  1003458521           0      0.614065  0.125151  0.001935   0.092849   \n",
       "\n",
       "   grda_vote  other_vote  \n",
       "0   0.006188    0.025136  \n",
       "1   0.004129    0.019944  \n",
       "2   0.003965    0.019173  \n",
       "3   0.008383    0.037316  \n",
       "4   0.005244    0.160755  "
      ]
     },
     "execution_count": 19,
     "metadata": {},
     "output_type": "execute_result"
    }
   ],
   "source": [
    "result_df = pd.concat(all_result_dfs)\n",
    "result_df.to_csv(output_csv_path, index=False)\n",
    "result_df.head()"
   ]
  },
  {
   "cell_type": "code",
   "execution_count": null,
   "metadata": {},
   "outputs": [
    {
     "data": {
      "text/html": [
       "<div>\n",
       "<style scoped>\n",
       "    .dataframe tbody tr th:only-of-type {\n",
       "        vertical-align: middle;\n",
       "    }\n",
       "\n",
       "    .dataframe tbody tr th {\n",
       "        vertical-align: top;\n",
       "    }\n",
       "\n",
       "    .dataframe thead th {\n",
       "        text-align: right;\n",
       "    }\n",
       "</style>\n",
       "<table border=\"1\" class=\"dataframe\">\n",
       "  <thead>\n",
       "    <tr style=\"text-align: right;\">\n",
       "      <th></th>\n",
       "      <th>eeg_id</th>\n",
       "      <th>eeg_sub_id</th>\n",
       "      <th>seizure_vote</th>\n",
       "      <th>lpd_vote</th>\n",
       "      <th>gpd_vote</th>\n",
       "      <th>lrda_vote</th>\n",
       "      <th>grda_vote</th>\n",
       "      <th>other_vote</th>\n",
       "    </tr>\n",
       "  </thead>\n",
       "  <tbody>\n",
       "    <tr>\n",
       "      <th>0</th>\n",
       "      <td>1001487592</td>\n",
       "      <td>0</td>\n",
       "      <td>-0.834580</td>\n",
       "      <td>2.104474</td>\n",
       "      <td>3.535462</td>\n",
       "      <td>-2.496653</td>\n",
       "      <td>-1.291346</td>\n",
       "      <td>0.110276</td>\n",
       "    </tr>\n",
       "    <tr>\n",
       "      <th>1</th>\n",
       "      <td>1001487592</td>\n",
       "      <td>1</td>\n",
       "      <td>-0.450730</td>\n",
       "      <td>2.038898</td>\n",
       "      <td>3.737956</td>\n",
       "      <td>-2.747182</td>\n",
       "      <td>-1.545426</td>\n",
       "      <td>0.029438</td>\n",
       "    </tr>\n",
       "    <tr>\n",
       "      <th>2</th>\n",
       "      <td>1001487592</td>\n",
       "      <td>2</td>\n",
       "      <td>-0.563513</td>\n",
       "      <td>2.319951</td>\n",
       "      <td>3.674443</td>\n",
       "      <td>-2.707443</td>\n",
       "      <td>-1.590178</td>\n",
       "      <td>-0.014069</td>\n",
       "    </tr>\n",
       "    <tr>\n",
       "      <th>3</th>\n",
       "      <td>1001487592</td>\n",
       "      <td>3</td>\n",
       "      <td>-0.956949</td>\n",
       "      <td>2.306753</td>\n",
       "      <td>3.166873</td>\n",
       "      <td>-2.437598</td>\n",
       "      <td>-1.201162</td>\n",
       "      <td>0.292033</td>\n",
       "    </tr>\n",
       "    <tr>\n",
       "      <th>4</th>\n",
       "      <td>1003458521</td>\n",
       "      <td>0</td>\n",
       "      <td>2.746888</td>\n",
       "      <td>1.156308</td>\n",
       "      <td>-3.013068</td>\n",
       "      <td>0.857767</td>\n",
       "      <td>-2.016048</td>\n",
       "      <td>1.406671</td>\n",
       "    </tr>\n",
       "  </tbody>\n",
       "</table>\n",
       "</div>"
      ],
      "text/plain": [
       "       eeg_id  eeg_sub_id  seizure_vote  lpd_vote  gpd_vote  lrda_vote  \\\n",
       "0  1001487592           0     -0.834580  2.104474  3.535462  -2.496653   \n",
       "1  1001487592           1     -0.450730  2.038898  3.737956  -2.747182   \n",
       "2  1001487592           2     -0.563513  2.319951  3.674443  -2.707443   \n",
       "3  1001487592           3     -0.956949  2.306753  3.166873  -2.437598   \n",
       "4  1003458521           0      2.746888  1.156308 -3.013068   0.857767   \n",
       "\n",
       "   grda_vote  other_vote  \n",
       "0  -1.291346    0.110276  \n",
       "1  -1.545426    0.029438  \n",
       "2  -1.590178   -0.014069  \n",
       "3  -1.201162    0.292033  \n",
       "4  -2.016048    1.406671  "
      ]
     },
     "execution_count": 20,
     "metadata": {},
     "output_type": "execute_result"
    }
   ],
   "source": [
    "result_logits_df = pd.concat(all_result_logits_dfs)\n",
    "result_logits_df.to_csv(output_logit_csv_path, index=False)\n",
    "result_logits_df.head()"
   ]
  },
  {
   "cell_type": "code",
   "execution_count": null,
   "metadata": {},
   "outputs": [
    {
     "name": "stdout",
     "output_type": "stream",
     "text": [
      "(106800, 7) (106800, 7) (106800, 7)\n",
      "0.5962674836693916\n",
      "(106800, 7) (39946, 7) (39946, 7)\n",
      "0.283454511485884\n"
     ]
    }
   ],
   "source": [
    "gt_df_path = \"/home/maxc/workspace/kaggle-hms/folds/all_targets.csv\"\n",
    "gt_df = pd.read_csv(gt_df_path)\n",
    "\n",
    "print(eval_subm(result_df,gt_df))\n",
    "print(eval_subm_g10(result_df,gt_df))"
   ]
  },
  {
   "cell_type": "code",
   "execution_count": null,
   "metadata": {},
   "outputs": [],
   "source": [
    "output_path = os.path.join(model_dir, \"subm/oof_result.csv\")\n",
    "logits_output_path = os.path.join(model_dir, \"subm/oof_result_logits.csv\")\n",
    "result_df.to_csv(output_path, index=False)\n",
    "result_logits_df.to_csv(logits_output_path, index=False)\n"
   ]
  },
  {
   "cell_type": "code",
   "execution_count": null,
   "metadata": {},
   "outputs": [
    {
     "name": "stdout",
     "output_type": "stream",
     "text": [
      "(106800, 7) (17089, 7) (17089, 7)\n",
      "0.505232635725143\n",
      "(106800, 7) (5441, 7) (5441, 7)\n",
      "0.24427100009129857\n"
     ]
    }
   ],
   "source": [
    "first_sample = result_df.groupby(\"eeg_id\").first().reset_index()\n",
    "print(eval_subm(first_sample,gt_df))\n",
    "print(eval_subm_g10(first_sample,gt_df))"
   ]
  },
  {
   "cell_type": "code",
   "execution_count": null,
   "metadata": {},
   "outputs": [],
   "source": [
    "# group by eeg id and keep the center sample\n",
    "center_sample = result_df.groupby(\"eeg_id\").nth(1).reset_index()\n"
   ]
  }
 ],
 "metadata": {
  "kernelspec": {
   "display_name": "unet-seg",
   "language": "python",
   "name": "python3"
  },
  "language_info": {
   "codemirror_mode": {
    "name": "ipython",
    "version": 3
   },
   "file_extension": ".py",
   "mimetype": "text/x-python",
   "name": "python",
   "nbconvert_exporter": "python",
   "pygments_lexer": "ipython3",
   "version": "3.10.14"
  }
 },
 "nbformat": 4,
 "nbformat_minor": 2
}
